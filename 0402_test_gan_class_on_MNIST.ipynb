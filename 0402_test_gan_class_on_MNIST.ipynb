{
 "cells": [
  {
   "cell_type": "code",
   "execution_count": 1,
   "metadata": {},
   "outputs": [
    {
     "name": "stderr",
     "output_type": "stream",
     "text": [
      "Using TensorFlow backend.\n"
     ]
    }
   ],
   "source": [
    "import numpy as np\n",
    "import pandas as pd\n",
    "import matplotlib.pyplot as plt\n",
    "%matplotlib inline\n",
    "\n",
    "from keras.datasets import mnist\n",
    "\n",
    "from gan_tf2 import GAN, WassersteinGAN"
   ]
  },
  {
   "cell_type": "code",
   "execution_count": 2,
   "metadata": {},
   "outputs": [],
   "source": [
    "%load_ext autoreload\n",
    "\n",
    "%autoreload 2"
   ]
  },
  {
   "cell_type": "code",
   "execution_count": 3,
   "metadata": {},
   "outputs": [],
   "source": [
    "(x_train, _), (_, _) = mnist.load_data()\n",
    "x_train = (x_train.astype(np.float32) - 127.5)/127.5\n",
    "\n",
    "# convert shape of x_train from (60000, 28, 28) to (60000, 784) \n",
    "# 784 columns per row\n",
    "x_train = x_train.reshape(60000, 784)"
   ]
  },
  {
   "cell_type": "code",
   "execution_count": 23,
   "metadata": {},
   "outputs": [],
   "source": [
    "test_gan = WassersteinGAN(num_epochs=400,\n",
    "               batch_size=200,\n",
    "               d_hidden_dims=[300, 200, 100],\n",
    "               g_hidden_dims=[250, 500, 750, 1000],\n",
    "               noise_inputs=100,\n",
    "               g_outputs=784,\n",
    "               d_noise=True,\n",
    "               d_learning_rate=0.0002,\n",
    "               g_learning_rate=0.0005,\n",
    "               image_generation=True,\n",
    "               log_every=1)"
   ]
  },
  {
   "cell_type": "code",
   "execution_count": null,
   "metadata": {},
   "outputs": [
    {
     "name": "stdout",
     "output_type": "stream",
     "text": [
      "Time for epoch 1 is 26.17 seconds.\n",
      "Total time passed: 26.17 seconds\n",
      "Generator loss: 0.40293315052986145\n",
      "Discriminator loss: -0.27097809314727783\n",
      "Time for epoch 2 is 25.9 seconds.\n",
      "Total time passed: 52.07 seconds\n",
      "Generator loss: 0.6859650611877441\n",
      "Discriminator loss: -0.6002987027168274\n",
      "Time for epoch 3 is 25.54 seconds.\n",
      "Total time passed: 77.61 seconds\n",
      "Generator loss: 0.31732437014579773\n",
      "Discriminator loss: -4.398392677307129\n"
     ]
    }
   ],
   "source": [
    "test_gan.fit(x_train)"
   ]
  },
  {
   "cell_type": "code",
   "execution_count": null,
   "metadata": {},
   "outputs": [],
   "source": []
  }
 ],
 "metadata": {
  "kernelspec": {
   "display_name": "Python 3",
   "language": "python",
   "name": "python3"
  },
  "language_info": {
   "codemirror_mode": {
    "name": "ipython",
    "version": 3
   },
   "file_extension": ".py",
   "mimetype": "text/x-python",
   "name": "python",
   "nbconvert_exporter": "python",
   "pygments_lexer": "ipython3",
   "version": "3.8.3"
  }
 },
 "nbformat": 4,
 "nbformat_minor": 4
}
