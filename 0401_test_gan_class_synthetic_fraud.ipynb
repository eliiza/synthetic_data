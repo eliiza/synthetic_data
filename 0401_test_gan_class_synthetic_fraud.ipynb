{
 "cells": [
  {
   "cell_type": "code",
   "execution_count": 1,
   "metadata": {},
   "outputs": [],
   "source": [
    "import pandas as pd\n",
    "from gan_tf2 import GAN\n",
    "from sklearn.preprocessing import MinMaxScaler\n",
    "from category_encoders import BinaryEncoder"
   ]
  },
  {
   "cell_type": "code",
   "execution_count": 2,
   "metadata": {},
   "outputs": [],
   "source": [
    "%load_ext autoreload\n",
    "\n",
    "%autoreload 2"
   ]
  },
  {
   "cell_type": "code",
   "execution_count": 3,
   "metadata": {},
   "outputs": [],
   "source": [
    "test_gan = GAN(num_epochs=4,\n",
    "               batch_size=100,\n",
    "               d_hidden_dims=[100, 80, 60, 40],\n",
    "               g_hidden_dims=[100, 80, 60, 40],\n",
    "               n_inputs=15,\n",
    "               g_outputs=10)"
   ]
  },
  {
   "cell_type": "code",
   "execution_count": 4,
   "metadata": {},
   "outputs": [],
   "source": [
    "fraud_data = pd.read_csv('data/PS_20174392719_1491204439457_log.csv')"
   ]
  },
  {
   "cell_type": "code",
   "execution_count": 5,
   "metadata": {},
   "outputs": [],
   "source": [
    "categorical_dict = {'type': {'CASH_OUT' : 0, 'TRANSFER' : 1, 'DEBIT' : 2, 'CASH_IN' : 3, 'PAYMENT' : 4}}\n",
    "fraud_data.replace(categorical_dict, inplace=True)\n",
    "\n",
    "benc = BinaryEncoder(cols=['type'])\n",
    "fraud_data = benc.fit_transform(fraud_data)\n",
    "\n",
    "fraud_data.drop(['step', 'nameOrig', 'nameDest', 'isFlaggedFraud'], axis=1, inplace=True)\n",
    "\n",
    "scale_cols = ['amount', 'oldbalanceOrg', 'newbalanceOrig',\n",
    "       'oldbalanceDest', 'newbalanceDest']\n",
    "scaler = MinMaxScaler()\n",
    "fraud_data[scale_cols] = scaler.fit_transform(fraud_data[scale_cols])"
   ]
  },
  {
   "cell_type": "code",
   "execution_count": 6,
   "metadata": {},
   "outputs": [
    {
     "data": {
      "text/plain": [
       "(10000, 10)"
      ]
     },
     "execution_count": 6,
     "metadata": {},
     "output_type": "execute_result"
    }
   ],
   "source": [
    "train_data = fraud_data.iloc[:10000,:].values\n",
    "train_data.shape"
   ]
  },
  {
   "cell_type": "code",
   "execution_count": 7,
   "metadata": {},
   "outputs": [
    {
     "name": "stdout",
     "output_type": "stream",
     "text": [
      "Time for epoch 1 is 5.165146112442017 sec\n",
      "Generator loss: 0.8486102223396301\n",
      "Discriminator loss: 1.4850068092346191\n",
      "Time for epoch 2 is 5.093842029571533 sec\n",
      "Generator loss: 0.8288021683692932\n",
      "Discriminator loss: 1.4227714538574219\n",
      "Time for epoch 3 is 5.052073955535889 sec\n",
      "Generator loss: 0.8178321719169617\n",
      "Discriminator loss: 1.3849177360534668\n",
      "Time for epoch 4 is 5.198892116546631 sec\n",
      "Generator loss: 0.8091177344322205\n",
      "Discriminator loss: 1.3534497022628784\n"
     ]
    },
    {
     "data": {
      "text/plain": [
       "<gan_tf2.GAN at 0x147e066d0>"
      ]
     },
     "execution_count": 7,
     "metadata": {},
     "output_type": "execute_result"
    }
   ],
   "source": [
    "test_gan.fit(train_data)"
   ]
  },
  {
   "cell_type": "code",
   "execution_count": 8,
   "metadata": {},
   "outputs": [],
   "source": [
    "test_result = test_gan.sample(8)"
   ]
  },
  {
   "cell_type": "code",
   "execution_count": 9,
   "metadata": {},
   "outputs": [
    {
     "data": {
      "text/plain": [
       "array([[-0.14443025,  0.5777148 , -0.6319782 , -0.4276818 ,  0.7789456 ,\n",
       "         0.89623773,  0.8223924 , -0.32143387,  0.5977029 , -0.41094863],\n",
       "       [ 0.23038884, -0.7828384 , -0.6852837 , -0.00522311,  0.14061046,\n",
       "         0.09992401, -0.34143555,  0.17129232,  0.1152623 ,  0.7130613 ],\n",
       "       [ 0.42852566, -0.4611586 ,  0.16274382, -0.6159122 ,  0.65731883,\n",
       "         0.5175589 ,  0.36809683, -0.43693802,  0.88670856, -0.49162942],\n",
       "       [-0.3467599 , -0.87576455, -0.2760876 , -0.3897972 ,  0.5089061 ,\n",
       "         0.35221753, -0.18977694, -0.24183796,  0.4637231 , -0.00534355],\n",
       "       [-0.5173214 ,  0.32164276,  0.27039412, -0.6831131 ,  0.34041026,\n",
       "        -0.37112266,  0.25487596,  0.16275164,  0.6180636 , -0.1663084 ],\n",
       "       [ 0.4547792 , -0.82944196,  0.9004145 , -0.2633492 , -0.2423253 ,\n",
       "         0.6993326 , -0.5417766 ,  0.76163757,  0.7815288 , -0.04701718],\n",
       "       [-0.04951789, -0.9087475 ,  0.2657484 , -0.22588357, -0.00848832,\n",
       "         0.9709366 , -0.78747964, -0.12397949,  0.53960323,  0.86194164],\n",
       "       [ 0.6904814 , -0.48264116,  0.53964263, -0.02799204,  0.34348145,\n",
       "         0.7978669 ,  0.7051889 ,  0.4535451 ,  0.81726515, -0.52714944]],\n",
       "      dtype=float32)"
      ]
     },
     "execution_count": 9,
     "metadata": {},
     "output_type": "execute_result"
    }
   ],
   "source": [
    "test_result"
   ]
  },
  {
   "cell_type": "code",
   "execution_count": 12,
   "metadata": {},
   "outputs": [],
   "source": [
    "test_gan2 = GAN(num_epochs=4,\n",
    "               batch_size=100,\n",
    "               d_hidden_dims=[100, 80, 60, 40],\n",
    "               g_hidden_dims=[100, 80, 60, 40],\n",
    "               n_inputs=15,\n",
    "               g_outputs=10)"
   ]
  },
  {
   "cell_type": "code",
   "execution_count": 14,
   "metadata": {},
   "outputs": [
    {
     "name": "stdout",
     "output_type": "stream",
     "text": [
      "Time for epoch 1 is 5.1557018756866455 sec\n",
      "Generator loss: 1.5598134994506836\n",
      "Discriminator loss: 0.6899771690368652\n",
      "Time for epoch 2 is 5.103539228439331 sec\n",
      "Generator loss: 3.6038849353790283\n",
      "Discriminator loss: 0.09724511206150055\n",
      "Time for epoch 3 is 5.253020286560059 sec\n",
      "Generator loss: 4.956458568572998\n",
      "Discriminator loss: 0.019546594470739365\n",
      "Time for epoch 4 is 5.103302955627441 sec\n",
      "Generator loss: 5.494729518890381\n",
      "Discriminator loss: 0.010559409856796265\n"
     ]
    },
    {
     "data": {
      "text/plain": [
       "<gan_tf2.GAN at 0x18a10c280>"
      ]
     },
     "execution_count": 14,
     "metadata": {},
     "output_type": "execute_result"
    }
   ],
   "source": [
    "test_gan2.fit(train_data)"
   ]
  },
  {
   "cell_type": "code",
   "execution_count": null,
   "metadata": {},
   "outputs": [],
   "source": []
  }
 ],
 "metadata": {
  "kernelspec": {
   "display_name": "Python 3",
   "language": "python",
   "name": "python3"
  },
  "language_info": {
   "codemirror_mode": {
    "name": "ipython",
    "version": 3
   },
   "file_extension": ".py",
   "mimetype": "text/x-python",
   "name": "python",
   "nbconvert_exporter": "python",
   "pygments_lexer": "ipython3",
   "version": "3.8.3"
  }
 },
 "nbformat": 4,
 "nbformat_minor": 4
}
